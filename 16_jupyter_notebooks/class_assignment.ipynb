{
 "cells": [
  {
   "cell_type": "code",
   "execution_count": 1,
   "metadata": {
    "button": false,
    "collapsed": true,
    "new_sheet": false,
    "run_control": {
     "read_only": false
    }
   },
   "outputs": [],
   "source": [
    "# always import all these now\n",
    "%matplotlib inline\n",
    "import numpy as np\n",
    "import pandas as pd\n",
    "import seaborn as sns\n",
    "import matplotlib.pyplot as plt"
   ]
  },
  {
   "cell_type": "raw",
   "metadata": {
    "button": false,
    "new_sheet": false,
    "run_control": {
     "read_only": false
    }
   },
   "source": [
    "All solutions to problems must appear right below the problem cell (might require more than one cell)"
   ]
  },
  {
   "cell_type": "code",
   "execution_count": null,
   "metadata": {
    "collapsed": true
   },
   "outputs": [],
   "source": []
  },
  {
   "cell_type": "markdown",
   "metadata": {
    "button": false,
    "new_sheet": false,
    "run_control": {
     "read_only": false
    }
   },
   "source": [
    "Problem 1: Recreate this image in markdown (image is \"imgs/rnamake_logo.jpg\")\n",
    "\n",
    "![](imgs/problem_1.jpg)"
   ]
  },
  {
   "cell_type": "markdown",
   "metadata": {},
   "source": [
    "![](imgs/rnamake_logo.jpg)\n",
    "\n",
    "```python\n",
    "# here is \n",
    "from rnamake import resource_manager as rm \n",
    "```"
   ]
  },
  {
   "cell_type": "markdown",
   "metadata": {
    "button": false,
    "new_sheet": false,
    "run_control": {
     "read_only": false
    }
   },
   "source": [
    "Problem 2: Recreate this image in markdown\n",
    "\n",
    "![](imgs/problem_2.jpg)"
   ]
  },
  {
   "cell_type": "markdown",
   "metadata": {
    "button": false,
    "new_sheet": false,
    "run_control": {
     "read_only": false
    }
   },
   "source": [
    "Problem 3: Do each step in its own cell\n",
    "- load dataset \"car_crashes\" from seaborn\n",
    "- print dataframe in juypter \n",
    "- print out the state with the most car crashes \n",
    "- print out the state with the most alcohol related crashes \n",
    "- print out all the columns related to nebraska\n",
    "- print out how many states are under 10 not_distracted"
   ]
  },
  {
   "cell_type": "markdown",
   "metadata": {
    "button": false,
    "new_sheet": false,
    "run_control": {
     "read_only": false
    }
   },
   "source": [
    "Problem 4:\n",
    "-  create a relation plot between the total number of car crashes and the the number of accidents with no previous accidents "
   ]
  },
  {
   "cell_type": "markdown",
   "metadata": {
    "button": false,
    "new_sheet": false,
    "run_control": {
     "read_only": false
    }
   },
   "source": [
    "Problem 5: Do each step in its own cell\n",
    "- load dataframe iris from seaborn\n",
    "- create a categorical plot for species compared to sepal_length\n",
    "- create a pair plot with hue by species \n",
    "- create a displot for sepal_width"
   ]
  },
  {
   "cell_type": "markdown",
   "metadata": {
    "button": false,
    "new_sheet": false,
    "run_control": {
     "read_only": false
    }
   },
   "source": [
    "Problem 6: \n",
    "- create a dataframe with petal_width < 0.5\n",
    "- for that dataframe create a categorical with petal_width vs sepal_length as a box plot colored by species"
   ]
  },
  {
   "cell_type": "code",
   "execution_count": null,
   "metadata": {
    "button": false,
    "collapsed": true,
    "new_sheet": false,
    "run_control": {
     "read_only": false
    }
   },
   "outputs": [],
   "source": []
  }
 ],
 "metadata": {
  "kernelspec": {
   "display_name": "Python 3",
   "language": "python",
   "name": "python3"
  },
  "language_info": {
   "codemirror_mode": {
    "name": "ipython",
    "version": 3
   },
   "file_extension": ".py",
   "mimetype": "text/x-python",
   "name": "python",
   "nbconvert_exporter": "python",
   "pygments_lexer": "ipython3",
   "version": "3.7.4"
  }
 },
 "nbformat": 4,
 "nbformat_minor": 2
}
